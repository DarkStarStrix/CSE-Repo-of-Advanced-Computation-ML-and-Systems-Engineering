{
 "cells": [
  {
   "cell_type": "markdown",
   "id": "51daf212",
   "metadata": {
    "_cell_guid": "b1076dfc-b9ad-4769-8c92-a6c4dae69d19",
    "_uuid": "8f2839f25d086af736a60e9eeb907d3b93b6e0e5",
    "papermill": {
     "duration": 0.010498,
     "end_time": "2025-03-07T00:08:44.488075",
     "exception": false,
     "start_time": "2025-03-07T00:08:44.477577",
     "status": "completed"
    },
    "tags": []
   },
   "source": [
    "<font size=\"5\">Import Libraries</font>"
   ]
  },
  {
   "cell_type": "code",
   "execution_count": 1,
   "id": "a0c8d23c",
   "metadata": {
    "execution": {
     "iopub.execute_input": "2025-03-07T00:08:44.507426Z",
     "iopub.status.busy": "2025-03-07T00:08:44.507125Z",
     "iopub.status.idle": "2025-03-07T00:08:55.297346Z",
     "shell.execute_reply": "2025-03-07T00:08:55.296616Z"
    },
    "papermill": {
     "duration": 10.801951,
     "end_time": "2025-03-07T00:08:55.299280",
     "exception": false,
     "start_time": "2025-03-07T00:08:44.497329",
     "status": "completed"
    },
    "tags": []
   },
   "outputs": [
    {
     "data": {
      "text/html": [
       "<style type='text/css'>\n",
       ".datatable table.frame { margin-bottom: 0; }\n",
       ".datatable table.frame thead { border-bottom: none; }\n",
       ".datatable table.frame tr.coltypes td {  color: #FFFFFF;  line-height: 6px;  padding: 0 0.5em;}\n",
       ".datatable .bool    { background: #DDDD99; }\n",
       ".datatable .object  { background: #565656; }\n",
       ".datatable .int     { background: #5D9E5D; }\n",
       ".datatable .float   { background: #4040CC; }\n",
       ".datatable .str     { background: #CC4040; }\n",
       ".datatable .time    { background: #40CC40; }\n",
       ".datatable .row_index {  background: var(--jp-border-color3);  border-right: 1px solid var(--jp-border-color0);  color: var(--jp-ui-font-color3);  font-size: 9px;}\n",
       ".datatable .frame tbody td { text-align: left; }\n",
       ".datatable .frame tr.coltypes .row_index {  background: var(--jp-border-color0);}\n",
       ".datatable th:nth-child(2) { padding-left: 12px; }\n",
       ".datatable .hellipsis {  color: var(--jp-cell-editor-border-color);}\n",
       ".datatable .vellipsis {  background: var(--jp-layout-color0);  color: var(--jp-cell-editor-border-color);}\n",
       ".datatable .na {  color: var(--jp-cell-editor-border-color);  font-size: 80%;}\n",
       ".datatable .sp {  opacity: 0.25;}\n",
       ".datatable .footer { font-size: 9px; }\n",
       ".datatable .frame_dimensions {  background: var(--jp-border-color3);  border-top: 1px solid var(--jp-border-color0);  color: var(--jp-ui-font-color3);  display: inline-block;  opacity: 0.6;  padding: 1px 10px 1px 5px;}\n",
       "</style>\n"
      ],
      "text/plain": [
       "<IPython.core.display.HTML object>"
      ]
     },
     "metadata": {},
     "output_type": "display_data"
    },
    {
     "data": {
      "text/plain": [
       "0"
      ]
     },
     "execution_count": 1,
     "metadata": {},
     "output_type": "execute_result"
    }
   ],
   "source": [
    "import gc\n",
    "import numpy as np\n",
    "import pandas as pd\n",
    "import matplotlib.pyplot as plt\n",
    "import seaborn as sb\n",
    "from sklearn.preprocessing import LabelEncoder, StandardScaler\n",
    "from sklearn.model_selection import train_test_split\n",
    "from imblearn.over_sampling import SMOTE\n",
    "from sklearn.svm import LinearSVC\n",
    "from sklearn.tree import DecisionTreeClassifier\n",
    "from sklearn.ensemble import RandomForestClassifier, VotingClassifier\n",
    "from catboost import CatBoostClassifier\n",
    "from lightgbm import LGBMClassifier\n",
    "from sklearn.metrics import accuracy_score, precision_score, recall_score, f1_score, confusion_matrix\n",
    "import torch\n",
    "import torch.nn as nn\n",
    "import torch.optim as optim\n",
    "from torch.utils.data import DataLoader, TensorDataset\n",
    "from sklearn.inspection import permutation_importance\n",
    "import shap\n",
    "import warnings\n",
    "warnings.filterwarnings(\"ignore\")\n",
    "\n",
    "# Set seaborn style for visualizations\n",
    "sb.set(rc={'figure.figsize': (12,7)})\n",
    "\n",
    "# Enable garbage collection\n",
    "gc.enable()\n",
    "\n",
    "# Collect garbage\n",
    "gc.collect()"
   ]
  },
  {
   "cell_type": "code",
   "execution_count": 2,
   "id": "c6621f57",
   "metadata": {
    "execution": {
     "iopub.execute_input": "2025-03-07T00:08:55.320282Z",
     "iopub.status.busy": "2025-03-07T00:08:55.320051Z",
     "iopub.status.idle": "2025-03-07T00:08:55.992347Z",
     "shell.execute_reply": "2025-03-07T00:08:55.991663Z"
    },
    "papermill": {
     "duration": 0.684511,
     "end_time": "2025-03-07T00:08:55.993991",
     "exception": false,
     "start_time": "2025-03-07T00:08:55.309480",
     "status": "completed"
    },
    "tags": []
   },
   "outputs": [
    {
     "data": {
      "text/plain": [
       "21"
      ]
     },
     "execution_count": 2,
     "metadata": {},
     "output_type": "execute_result"
    }
   ],
   "source": [
    "# Load dataset\n",
    "star = pd.read_csv('/kaggle/input/stellar-classification-dataset-sdss17/star_classification.csv')\n",
    "\n",
    "# Collect garbage\n",
    "gc.collect()"
   ]
  },
  {
   "cell_type": "code",
   "execution_count": 3,
   "id": "59ad0d50",
   "metadata": {
    "execution": {
     "iopub.execute_input": "2025-03-07T00:08:56.015327Z",
     "iopub.status.busy": "2025-03-07T00:08:56.014884Z",
     "iopub.status.idle": "2025-03-07T00:08:56.524324Z",
     "shell.execute_reply": "2025-03-07T00:08:56.523671Z"
    },
    "papermill": {
     "duration": 0.521903,
     "end_time": "2025-03-07T00:08:56.526070",
     "exception": false,
     "start_time": "2025-03-07T00:08:56.004167",
     "status": "completed"
    },
    "tags": []
   },
   "outputs": [
    {
     "name": "stdout",
     "output_type": "stream",
     "text": [
      "First few rows:\n"
     ]
    },
    {
     "data": {
      "text/html": [
       "<div>\n",
       "<style scoped>\n",
       "    .dataframe tbody tr th:only-of-type {\n",
       "        vertical-align: middle;\n",
       "    }\n",
       "\n",
       "    .dataframe tbody tr th {\n",
       "        vertical-align: top;\n",
       "    }\n",
       "\n",
       "    .dataframe thead th {\n",
       "        text-align: right;\n",
       "    }\n",
       "</style>\n",
       "<table border=\"1\" class=\"dataframe\">\n",
       "  <thead>\n",
       "    <tr style=\"text-align: right;\">\n",
       "      <th></th>\n",
       "      <th>obj_ID</th>\n",
       "      <th>alpha</th>\n",
       "      <th>delta</th>\n",
       "      <th>u</th>\n",
       "      <th>g</th>\n",
       "      <th>r</th>\n",
       "      <th>i</th>\n",
       "      <th>z</th>\n",
       "      <th>run_ID</th>\n",
       "      <th>rerun_ID</th>\n",
       "      <th>cam_col</th>\n",
       "      <th>field_ID</th>\n",
       "      <th>spec_obj_ID</th>\n",
       "      <th>class</th>\n",
       "      <th>redshift</th>\n",
       "      <th>plate</th>\n",
       "      <th>MJD</th>\n",
       "      <th>fiber_ID</th>\n",
       "    </tr>\n",
       "  </thead>\n",
       "  <tbody>\n",
       "    <tr>\n",
       "      <th>0</th>\n",
       "      <td>1.237661e+18</td>\n",
       "      <td>135.689107</td>\n",
       "      <td>32.494632</td>\n",
       "      <td>23.87882</td>\n",
       "      <td>22.27530</td>\n",
       "      <td>20.39501</td>\n",
       "      <td>19.16573</td>\n",
       "      <td>18.79371</td>\n",
       "      <td>3606</td>\n",
       "      <td>301</td>\n",
       "      <td>2</td>\n",
       "      <td>79</td>\n",
       "      <td>6.543777e+18</td>\n",
       "      <td>GALAXY</td>\n",
       "      <td>0.634794</td>\n",
       "      <td>5812</td>\n",
       "      <td>56354</td>\n",
       "      <td>171</td>\n",
       "    </tr>\n",
       "    <tr>\n",
       "      <th>1</th>\n",
       "      <td>1.237665e+18</td>\n",
       "      <td>144.826101</td>\n",
       "      <td>31.274185</td>\n",
       "      <td>24.77759</td>\n",
       "      <td>22.83188</td>\n",
       "      <td>22.58444</td>\n",
       "      <td>21.16812</td>\n",
       "      <td>21.61427</td>\n",
       "      <td>4518</td>\n",
       "      <td>301</td>\n",
       "      <td>5</td>\n",
       "      <td>119</td>\n",
       "      <td>1.176014e+19</td>\n",
       "      <td>GALAXY</td>\n",
       "      <td>0.779136</td>\n",
       "      <td>10445</td>\n",
       "      <td>58158</td>\n",
       "      <td>427</td>\n",
       "    </tr>\n",
       "    <tr>\n",
       "      <th>2</th>\n",
       "      <td>1.237661e+18</td>\n",
       "      <td>142.188790</td>\n",
       "      <td>35.582444</td>\n",
       "      <td>25.26307</td>\n",
       "      <td>22.66389</td>\n",
       "      <td>20.60976</td>\n",
       "      <td>19.34857</td>\n",
       "      <td>18.94827</td>\n",
       "      <td>3606</td>\n",
       "      <td>301</td>\n",
       "      <td>2</td>\n",
       "      <td>120</td>\n",
       "      <td>5.152200e+18</td>\n",
       "      <td>GALAXY</td>\n",
       "      <td>0.644195</td>\n",
       "      <td>4576</td>\n",
       "      <td>55592</td>\n",
       "      <td>299</td>\n",
       "    </tr>\n",
       "    <tr>\n",
       "      <th>3</th>\n",
       "      <td>1.237663e+18</td>\n",
       "      <td>338.741038</td>\n",
       "      <td>-0.402828</td>\n",
       "      <td>22.13682</td>\n",
       "      <td>23.77656</td>\n",
       "      <td>21.61162</td>\n",
       "      <td>20.50454</td>\n",
       "      <td>19.25010</td>\n",
       "      <td>4192</td>\n",
       "      <td>301</td>\n",
       "      <td>3</td>\n",
       "      <td>214</td>\n",
       "      <td>1.030107e+19</td>\n",
       "      <td>GALAXY</td>\n",
       "      <td>0.932346</td>\n",
       "      <td>9149</td>\n",
       "      <td>58039</td>\n",
       "      <td>775</td>\n",
       "    </tr>\n",
       "    <tr>\n",
       "      <th>4</th>\n",
       "      <td>1.237680e+18</td>\n",
       "      <td>345.282593</td>\n",
       "      <td>21.183866</td>\n",
       "      <td>19.43718</td>\n",
       "      <td>17.58028</td>\n",
       "      <td>16.49747</td>\n",
       "      <td>15.97711</td>\n",
       "      <td>15.54461</td>\n",
       "      <td>8102</td>\n",
       "      <td>301</td>\n",
       "      <td>3</td>\n",
       "      <td>137</td>\n",
       "      <td>6.891865e+18</td>\n",
       "      <td>GALAXY</td>\n",
       "      <td>0.116123</td>\n",
       "      <td>6121</td>\n",
       "      <td>56187</td>\n",
       "      <td>842</td>\n",
       "    </tr>\n",
       "  </tbody>\n",
       "</table>\n",
       "</div>"
      ],
      "text/plain": [
       "         obj_ID       alpha      delta         u         g         r  \\\n",
       "0  1.237661e+18  135.689107  32.494632  23.87882  22.27530  20.39501   \n",
       "1  1.237665e+18  144.826101  31.274185  24.77759  22.83188  22.58444   \n",
       "2  1.237661e+18  142.188790  35.582444  25.26307  22.66389  20.60976   \n",
       "3  1.237663e+18  338.741038  -0.402828  22.13682  23.77656  21.61162   \n",
       "4  1.237680e+18  345.282593  21.183866  19.43718  17.58028  16.49747   \n",
       "\n",
       "          i         z  run_ID  rerun_ID  cam_col  field_ID   spec_obj_ID  \\\n",
       "0  19.16573  18.79371    3606       301        2        79  6.543777e+18   \n",
       "1  21.16812  21.61427    4518       301        5       119  1.176014e+19   \n",
       "2  19.34857  18.94827    3606       301        2       120  5.152200e+18   \n",
       "3  20.50454  19.25010    4192       301        3       214  1.030107e+19   \n",
       "4  15.97711  15.54461    8102       301        3       137  6.891865e+18   \n",
       "\n",
       "    class  redshift  plate    MJD  fiber_ID  \n",
       "0  GALAXY  0.634794   5812  56354       171  \n",
       "1  GALAXY  0.779136  10445  58158       427  \n",
       "2  GALAXY  0.644195   4576  55592       299  \n",
       "3  GALAXY  0.932346   9149  58039       775  \n",
       "4  GALAXY  0.116123   6121  56187       842  "
      ]
     },
     "metadata": {},
     "output_type": "display_data"
    },
    {
     "name": "stdout",
     "output_type": "stream",
     "text": [
      "Data Info:\n",
      "<class 'pandas.core.frame.DataFrame'>\n",
      "RangeIndex: 100000 entries, 0 to 99999\n",
      "Data columns (total 18 columns):\n",
      " #   Column       Non-Null Count   Dtype  \n",
      "---  ------       --------------   -----  \n",
      " 0   obj_ID       100000 non-null  float64\n",
      " 1   alpha        100000 non-null  float64\n",
      " 2   delta        100000 non-null  float64\n",
      " 3   u            100000 non-null  float64\n",
      " 4   g            100000 non-null  float64\n",
      " 5   r            100000 non-null  float64\n",
      " 6   i            100000 non-null  float64\n",
      " 7   z            100000 non-null  float64\n",
      " 8   run_ID       100000 non-null  int64  \n",
      " 9   rerun_ID     100000 non-null  int64  \n",
      " 10  cam_col      100000 non-null  int64  \n",
      " 11  field_ID     100000 non-null  int64  \n",
      " 12  spec_obj_ID  100000 non-null  float64\n",
      " 13  class        100000 non-null  object \n",
      " 14  redshift     100000 non-null  float64\n",
      " 15  plate        100000 non-null  int64  \n",
      " 16  MJD          100000 non-null  int64  \n",
      " 17  fiber_ID     100000 non-null  int64  \n",
      "dtypes: float64(10), int64(7), object(1)\n",
      "memory usage: 13.7+ MB\n",
      "Null Values:\n",
      "obj_ID         0\n",
      "alpha          0\n",
      "delta          0\n",
      "u              0\n",
      "g              0\n",
      "r              0\n",
      "i              0\n",
      "z              0\n",
      "run_ID         0\n",
      "rerun_ID       0\n",
      "cam_col        0\n",
      "field_ID       0\n",
      "spec_obj_ID    0\n",
      "class          0\n",
      "redshift       0\n",
      "plate          0\n",
      "MJD            0\n",
      "fiber_ID       0\n",
      "dtype: int64\n",
      "Class Distribution:\n",
      "GALAXY    59.445\n",
      "STAR      21.594\n",
      "QSO       18.961\n",
      "Name: class, dtype: float64\n"
     ]
    },
    {
     "data": {
      "image/png": "[encoded data removed]",
      "text/plain": [
       "<Figure size 864x504 with 1 Axes>"
      ]
     },
     "metadata": {},
     "output_type": "display_data"
    },
    {
     "data": {
      "text/plain": [
       "2656"
      ]
     },
     "execution_count": 3,
     "metadata": {},
     "output_type": "execute_result"
    }
   ],
   "source": [
    "# Display first few rows\n",
    "print(\"First few rows:\")\n",
    "display(star.head())\n",
    "\n",
    "# Data info and null check\n",
    "print(\"Data Info:\")\n",
    "star.info()\n",
    "print(\"Null Values:\")\n",
    "print(star.isnull().sum())\n",
    "\n",
    "# Class distribution\n",
    "print(\"Class Distribution:\")\n",
    "print(star[\"class\"].value_counts(normalize=True) * 100)\n",
    "\n",
    "# Plot class distribution\n",
    "sb.countplot(x=star[\"class\"], palette=\"Set3\")\n",
    "plt.title(\"Class Distribution\")\n",
    "plt.show()\n",
    "\n",
    "# Encode class labels for later use\n",
    "le = LabelEncoder()\n",
    "star[\"class\"] = le.fit_transform(star[\"class\"])\n",
    "\n",
    "# Collect garbage\n",
    "gc.collect()\n"
   ]
  },
  {
   "cell_type": "code",
   "execution_count": 4,
   "id": "9124b8ac",
   "metadata": {
    "execution": {
     "iopub.execute_input": "2025-03-07T00:08:56.552231Z",
     "iopub.status.busy": "2025-03-07T00:08:56.552003Z",
     "iopub.status.idle": "2025-03-07T00:08:57.470447Z",
     "shell.execute_reply": "2025-03-07T00:08:57.469726Z"
    },
    "papermill": {
     "duration": 0.933393,
     "end_time": "2025-03-07T00:08:57.472222",
     "exception": false,
     "start_time": "2025-03-07T00:08:56.538829",
     "status": "completed"
    },
    "tags": []
   },
   "outputs": [
    {
     "name": "stdout",
     "output_type": "stream",
     "text": [
      "Number of outliers deleted: 14266\n"
     ]
    },
    {
     "data": {
      "text/plain": [
       "48"
      ]
     },
     "execution_count": 4,
     "metadata": {},
     "output_type": "execute_result"
    }
   ],
   "source": [
    "# Remove outliers using IQR method\n",
    "def rem_outliers(df):\n",
    "    s1 = df.shape\n",
    "    for i in df.select_dtypes(include='number').columns:\n",
    "        qt1 = df[i].quantile(0.25)\n",
    "        qt3 = df[i].quantile(0.75)\n",
    "        iqr = qt3 - qt1\n",
    "        lower = qt1 - (1.5 * iqr)\n",
    "        upper = qt3 + (1.5 * iqr)\n",
    "        min_in = df[df[i] < lower].index\n",
    "        max_in = df[df[i] > upper].index\n",
    "        df.drop(min_in, inplace=True)\n",
    "        df.drop(max_in, inplace=True)\n",
    "    s2 = df.shape\n",
    "    outliers = s1[0] - s2[0]\n",
    "    return outliers\n",
    "\n",
    "outliers_removed = rem_outliers(star)\n",
    "print(f\"Number of outliers deleted: {outliers_removed}\")\n",
    "\n",
    "# Drop unnecessary columns\n",
    "columns_to_drop = ['run_ID', 'rerun_ID', 'cam_col', 'field_ID', 'spec_obj_ID', 'fiber_ID', 'obj_ID']\n",
    "star.drop(columns_to_drop, axis=1, inplace=True)\n",
    "\n",
    "# Split features and target\n",
    "X = star.drop('class', axis=1)\n",
    "y = star['class']\n",
    "\n",
    "# Train-validation-test split (60% train, 20% validation, 20% test)\n",
    "X_train_val, X_test, y_train_val, y_test = train_test_split(X, y, test_size=0.2, random_state=42)\n",
    "X_train, X_val, y_train, y_val = train_test_split(X_train_val, y_train_val, test_size=0.25, random_state=42)  # 0.25 * 0.8 = 0.2\n",
    "\n",
    "# Standardize features\n",
    "sc = StandardScaler()\n",
    "X_train = pd.DataFrame(sc.fit_transform(X_train), columns=X_train.columns, index=X_train.index)\n",
    "X_val = pd.DataFrame(sc.transform(X_val), columns=X_val.columns, index=X_val.index)\n",
    "X_test = pd.DataFrame(sc.transform(X_test), columns=X_test.columns, index=X_test.index)\n",
    "\n",
    "# Apply SMOTE to training set\n",
    "oversampler = SMOTE(random_state=1)\n",
    "X_train_smote, y_train_smote = oversampler.fit_resample(X_train, y_train)\n",
    "\n",
    "# Collect garbage\n",
    "gc.collect()"
   ]
  },
  {
   "cell_type": "code",
   "execution_count": 5,
   "id": "6d4027c5",
   "metadata": {
    "execution": {
     "iopub.execute_input": "2025-03-07T00:08:57.498651Z",
     "iopub.status.busy": "2025-03-07T00:08:57.498440Z",
     "iopub.status.idle": "2025-03-07T00:08:57.682414Z",
     "shell.execute_reply": "2025-03-07T00:08:57.681691Z"
    },
    "papermill": {
     "duration": 0.199212,
     "end_time": "2025-03-07T00:08:57.684087",
     "exception": false,
     "start_time": "2025-03-07T00:08:57.484875",
     "status": "completed"
    },
    "tags": []
   },
   "outputs": [
    {
     "data": {
      "text/plain": [
       "21"
      ]
     },
     "execution_count": 5,
     "metadata": {},
     "output_type": "execute_result"
    }
   ],
   "source": [
    "# Convert data to PyTorch tensors\n",
    "X_train_tensor = torch.tensor(X_train_smote.values, dtype=torch.float32)\n",
    "y_train_tensor = torch.tensor(y_train_smote.values, dtype=torch.long)\n",
    "X_val_tensor = torch.tensor(X_val.values, dtype=torch.float32)\n",
    "y_val_tensor = torch.tensor(y_val.values, dtype=torch.long)\n",
    "X_test_tensor = torch.tensor(X_test.values, dtype=torch.float32)\n",
    "y_test_tensor = torch.tensor(y_test.values, dtype=torch.long)\n",
    "\n",
    "# Create datasets and dataloaders\n",
    "train_dataset = TensorDataset(X_train_tensor, y_train_tensor)\n",
    "val_dataset = TensorDataset(X_val_tensor, y_val_tensor)\n",
    "test_dataset = TensorDataset(X_test_tensor, y_test_tensor)\n",
    "train_loader = DataLoader(train_dataset, batch_size=64, shuffle=True)\n",
    "val_loader = DataLoader(val_dataset, batch_size=64, shuffle=False)\n",
    "test_loader = DataLoader(test_dataset, batch_size=64, shuffle=False)\n",
    "\n",
    "# Collect garbage\n",
    "gc.collect()"
   ]
  },
  {
   "cell_type": "code",
   "execution_count": 6,
   "id": "68cdfbcb",
   "metadata": {
    "execution": {
     "iopub.execute_input": "2025-03-07T00:08:57.711305Z",
     "iopub.status.busy": "2025-03-07T00:08:57.711078Z",
     "iopub.status.idle": "2025-03-07T00:10:38.905347Z",
     "shell.execute_reply": "2025-03-07T00:10:38.904510Z"
    },
    "papermill": {
     "duration": 101.210035,
     "end_time": "2025-03-07T00:10:38.907130",
     "exception": false,
     "start_time": "2025-03-07T00:08:57.697095",
     "status": "completed"
    },
    "tags": []
   },
   "outputs": [
    {
     "name": "stdout",
     "output_type": "stream",
     "text": [
      "Linear SVC trained.\n",
      "\n",
      "Linear SVC on Training Set:\n",
      "Accuracy: 93.22%\n",
      "Precision: 0.93\n",
      "Recall: 0.93\n",
      "F1-Score: 0.93\n",
      "Confusion Matrix:\n",
      "[[29159  3575   605]\n",
      " [ 2404 30919    16]\n",
      " [  177     8 33154]]\n",
      "\n",
      "Linear SVC on Validation Set:\n",
      "Accuracy: 91.25%\n",
      "Precision: 0.85\n",
      "Recall: 0.93\n",
      "F1-Score: 0.88\n",
      "Confusion Matrix:\n",
      "[[9820 1145  174]\n",
      " [ 146 1813    3]\n",
      " [  30    3 4013]]\n",
      "Decision Tree trained.\n",
      "\n",
      "Decision Tree on Training Set:\n",
      "Accuracy: 100.00%\n",
      "Precision: 1.00\n",
      "Recall: 1.00\n",
      "F1-Score: 1.00\n",
      "Confusion Matrix:\n",
      "[[33339     0     0]\n",
      " [    0 33339     0]\n",
      " [    0     0 33339]]\n",
      "\n",
      "Decision Tree on Validation Set:\n",
      "Accuracy: 95.13%\n",
      "Precision: 0.91\n",
      "Recall: 0.94\n",
      "F1-Score: 0.92\n",
      "Confusion Matrix:\n",
      "[[10557   567    15]\n",
      " [  243  1718     1]\n",
      " [    9     0  4037]]\n",
      "Random Forest trained.\n",
      "\n",
      "Random Forest on Training Set:\n",
      "Accuracy: 100.00%\n",
      "Precision: 1.00\n",
      "Recall: 1.00\n",
      "F1-Score: 1.00\n",
      "Confusion Matrix:\n",
      "[[33338     1     0]\n",
      " [    0 33339     0]\n",
      " [    0     0 33339]]\n",
      "\n",
      "Random Forest on Validation Set:\n",
      "Accuracy: 97.49%\n",
      "Precision: 0.96\n",
      "Recall: 0.96\n",
      "F1-Score: 0.96\n",
      "Confusion Matrix:\n",
      "[[10897   218    24]\n",
      " [  186  1775     1]\n",
      " [    1     0  4045]]\n",
      "CatBoost trained.\n",
      "\n",
      "CatBoost on Training Set:\n",
      "Accuracy: 98.84%\n",
      "Precision: 0.99\n",
      "Recall: 0.99\n",
      "F1-Score: 0.99\n",
      "Confusion Matrix:\n",
      "[[32836   414    89]\n",
      " [  649 32689     1]\n",
      " [    9     0 33330]]\n",
      "\n",
      "CatBoost on Validation Set:\n",
      "Accuracy: 96.98%\n",
      "Precision: 0.95\n",
      "Recall: 0.96\n",
      "F1-Score: 0.95\n",
      "Confusion Matrix:\n",
      "[[10815   264    60]\n",
      " [  179  1781     2]\n",
      " [   13     0  4033]]\n"
     ]
    },
    {
     "name": "stderr",
     "output_type": "stream",
     "text": [
      "1 warning generated.\n",
      "1 warning generated.\n",
      "1 warning generated.\n",
      "1 warning generated.\n",
      "1 warning generated.\n",
      "1 warning generated.\n",
      "1 warning generated.\n",
      "1 warning generated.\n",
      "1 warning generated.\n",
      "1 warning generated.\n",
      "1 warning generated.\n",
      "1 warning generated.\n",
      "1 warning generated.\n",
      "1 warning generated.\n",
      "1 warning generated.\n",
      "1 warning generated.\n",
      "1 warning generated.\n",
      "1 warning generated.\n",
      "1 warning generated.\n",
      "1 warning generated.\n",
      "1 warning generated.\n",
      "1 warning generated.\n",
      "1 warning generated.\n",
      "1 warning generated.\n",
      "1 warning generated.\n",
      "1 warning generated.\n",
      "1 warning generated.\n",
      "1 warning generated.\n",
      "1 warning generated.\n",
      "1 warning generated.\n",
      "1 warning generated.\n",
      "1 warning generated.\n",
      "1 warning generated.\n"
     ]
    },
    {
     "name": "stdout",
     "output_type": "stream",
     "text": [
      "LightGBM trained.\n",
      "\n",
      "LightGBM on Training Set:\n",
      "Accuracy: 97.99%\n",
      "Precision: 0.98\n",
      "Recall: 0.98\n",
      "F1-Score: 0.98\n",
      "Confusion Matrix:\n",
      "[[32586   727    26]\n",
      " [ 1256 32082     1]\n",
      " [    3     0 33336]]\n",
      "\n",
      "LightGBM on Validation Set:\n",
      "Accuracy: 96.95%\n",
      "Precision: 0.94\n",
      "Recall: 0.96\n",
      "F1-Score: 0.95\n",
      "Confusion Matrix:\n",
      "[[10795   290    54]\n",
      " [  163  1797     2]\n",
      " [   14     0  4032]]\n",
      "Epoch 1/10, Loss: 0.0610, Validation Accuracy: 94.44%\n",
      "Epoch 2/10, Loss: 0.2571, Validation Accuracy: 94.58%\n",
      "Epoch 3/10, Loss: 0.3419, Validation Accuracy: 95.81%\n",
      "Epoch 4/10, Loss: 0.0863, Validation Accuracy: 95.49%\n",
      "Epoch 5/10, Loss: 0.0970, Validation Accuracy: 95.02%\n",
      "Epoch 6/10, Loss: 0.1310, Validation Accuracy: 95.11%\n",
      "Epoch 7/10, Loss: 0.0543, Validation Accuracy: 95.46%\n",
      "Epoch 8/10, Loss: 0.0553, Validation Accuracy: 95.35%\n",
      "Epoch 9/10, Loss: 0.1563, Validation Accuracy: 95.67%\n",
      "Epoch 10/10, Loss: 0.0188, Validation Accuracy: 95.75%\n"
     ]
    }
   ],
   "source": [
    "# Define traditional ML models (CPU/GPU where supported)\n",
    "models = {\n",
    "    'Linear SVC': LinearSVC(),\n",
    "    'Decision Tree': DecisionTreeClassifier(),\n",
    "    'Random Forest': RandomForestClassifier(),\n",
    "    'CatBoost': CatBoostClassifier(task_type='GPU' if torch.cuda.is_available() else 'CPU', verbose=0),\n",
    "    'LightGBM': LGBMClassifier(device='gpu' if torch.cuda.is_available() else 'cpu')\n",
    "}\n",
    "\n",
    "# Function to print evaluation metrics\n",
    "def print_metrics(y_true, y_pred, dataset_name, model_name):\n",
    "    print(f\"\\n{model_name} on {dataset_name}:\")\n",
    "    print(f\"Accuracy: {accuracy_score(y_true, y_pred) * 100:.2f}%\")\n",
    "    print(f\"Precision: {precision_score(y_true, y_pred, average='macro'):.2f}\")\n",
    "    print(f\"Recall: {recall_score(y_true, y_pred, average='macro'):.2f}\")\n",
    "    print(f\"F1-Score: {f1_score(y_true, y_pred, average='macro'):.2f}\")\n",
    "    print(f\"Confusion Matrix:\\n{confusion_matrix(y_true, y_pred)}\")\n",
    "\n",
    "# Train and evaluate traditional ML models\n",
    "for name, model in models.items():\n",
    "    model.fit(X_train_smote, y_train_smote)\n",
    "    print(f\"{name} trained.\")\n",
    "    \n",
    "    # Training metrics\n",
    "    y_train_pred = model.predict(X_train_smote)\n",
    "    print_metrics(y_train_smote, y_train_pred, \"Training Set\", name)\n",
    "    \n",
    "    # Validation metrics\n",
    "    y_val_pred = model.predict(X_val)\n",
    "    print_metrics(y_val, y_val_pred, \"Validation Set\", name)\n",
    "    \n",
    "    # Collect garbage\n",
    "    gc.collect()\n",
    "\n",
    "# Define neural network with CUDA optimization\n",
    "class SimpleNN(nn.Module):\n",
    "    def __init__(self, input_size, num_classes):\n",
    "        super(SimpleNN, self).__init__()\n",
    "        self.fc1 = nn.Linear(input_size, 128)\n",
    "        self.relu = nn.ReLU()\n",
    "        self.fc2 = nn.Linear(128, num_classes)\n",
    "    def forward(self, x):\n",
    "        x = self.fc1(x)\n",
    "        x = self.relu(x)\n",
    "        x = self.fc2(x)\n",
    "        return x\n",
    "\n",
    "# Initialize neural network on GPU if available\n",
    "device = torch.device('cuda' if torch.cuda.is_available() else 'cpu')\n",
    "nn_model = SimpleNN(input_size=X_train.shape[1], num_classes=3).to(device)\n",
    "criterion = nn.CrossEntropyLoss()\n",
    "optimizer = optim.Adam(nn_model.parameters(), lr=0.001)\n",
    "\n",
    "# Train neural network with validation\n",
    "num_epochs = 10\n",
    "for epoch in range(num_epochs):\n",
    "    nn_model.train()\n",
    "    for X_batch, y_batch in train_loader:\n",
    "        X_batch, y_batch = X_batch.to(device), y_batch.to(device)\n",
    "        optimizer.zero_grad()\n",
    "        outputs = nn_model(X_batch)\n",
    "        loss = criterion(outputs, y_batch)\n",
    "        loss.backward()\n",
    "        optimizer.step()\n",
    "    \n",
    "    # Validation\n",
    "    nn_model.eval()\n",
    "    val_correct = 0\n",
    "    val_total = 0\n",
    "    with torch.no_grad():\n",
    "        for X_val_batch, y_val_batch in val_loader:\n",
    "            X_val_batch, y_val_batch = X_val_batch.to(device), y_val_batch.to(device)\n",
    "            val_outputs = nn_model(X_val_batch)\n",
    "            _, predicted = torch.max(val_outputs.data, 1)\n",
    "            val_total += y_val_batch.size(0)\n",
    "            val_correct += (predicted == y_val_batch).sum().item()\n",
    "    val_accuracy = 100 * val_correct / val_total\n",
    "    print(f'Epoch {epoch+1}/{num_epochs}, Loss: {loss.item():.4f}, Validation Accuracy: {val_accuracy:.2f}%')\n",
    "    \n",
    "    # Collect garbage\n",
    "    gc.collect()"
   ]
  },
  {
   "cell_type": "code",
   "execution_count": 7,
   "id": "969f1c33",
   "metadata": {
    "execution": {
     "iopub.execute_input": "2025-03-07T00:10:38.953508Z",
     "iopub.status.busy": "2025-03-07T00:10:38.953001Z",
     "iopub.status.idle": "2025-03-07T00:11:42.248428Z",
     "shell.execute_reply": "2025-03-07T00:11:42.247603Z"
    },
    "papermill": {
     "duration": 63.320281,
     "end_time": "2025-03-07T00:11:42.250085",
     "exception": false,
     "start_time": "2025-03-07T00:10:38.929804",
     "status": "completed"
    },
    "tags": []
   },
   "outputs": [
    {
     "name": "stdout",
     "output_type": "stream",
     "text": [
      "Voting Classifier trained.\n",
      "\n",
      "Voting Classifier on Training Set:\n",
      "Accuracy: 99.17%\n",
      "Precision: 0.99\n",
      "Recall: 0.99\n",
      "F1-Score: 0.99\n",
      "Confusion Matrix:\n",
      "[[33022   293    24]\n",
      " [  513 32825     1]\n",
      " [    0     0 33339]]\n",
      "\n",
      "Voting Classifier on Validation Set:\n",
      "Accuracy: 97.29%\n",
      "Precision: 0.95\n",
      "Recall: 0.96\n",
      "F1-Score: 0.96\n",
      "Confusion Matrix:\n",
      "[[10846   246    47]\n",
      " [  171  1790     1]\n",
      " [    0     0  4046]]\n"
     ]
    },
    {
     "data": {
      "text/plain": [
       "52"
      ]
     },
     "execution_count": 7,
     "metadata": {},
     "output_type": "execute_result"
    }
   ],
   "source": [
    "# Define custom VotingClassifier to handle prediction shape\n",
    "class CustomVotingClassifier(VotingClassifier):\n",
    "    def _predict(self, X):\n",
    "        predictions = [est.predict(X).ravel() for est in self.estimators_]\n",
    "        return np.asarray(predictions).T\n",
    "\n",
    "# Define voting classifier\n",
    "voting_clf = CustomVotingClassifier(estimators=[\n",
    "    ('svc', models['Linear SVC']),\n",
    "    ('dt', models['Decision Tree']),\n",
    "    ('rf', models['Random Forest']),\n",
    "    ('catboost', models['CatBoost']),\n",
    "    ('lgbm', models['LightGBM'])\n",
    "], voting='hard')\n",
    "\n",
    "# Train voting classifier\n",
    "voting_clf.fit(X_train_smote, y_train_smote)\n",
    "print(\"Voting Classifier trained.\")\n",
    "\n",
    "# Training metrics\n",
    "y_train_pred_voting = voting_clf.predict(X_train_smote)\n",
    "print_metrics(y_train_smote, y_train_pred_voting, \"Training Set\", \"Voting Classifier\")\n",
    "\n",
    "# Validation metrics\n",
    "y_val_pred_voting = voting_clf.predict(X_val)\n",
    "print_metrics(y_val, y_val_pred_voting, \"Validation Set\", \"Voting Classifier\")\n",
    "\n",
    "# Collect garbage\n",
    "gc.collect()"
   ]
  },
  {
   "cell_type": "code",
   "execution_count": 8,
   "id": "79e37bfc",
   "metadata": {
    "execution": {
     "iopub.execute_input": "2025-03-07T00:11:42.296957Z",
     "iopub.status.busy": "2025-03-07T00:11:42.296742Z",
     "iopub.status.idle": "2025-03-07T00:11:43.223298Z",
     "shell.execute_reply": "2025-03-07T00:11:43.222530Z"
    },
    "papermill": {
     "duration": 0.95186,
     "end_time": "2025-03-07T00:11:43.224933",
     "exception": false,
     "start_time": "2025-03-07T00:11:42.273073",
     "status": "completed"
    },
    "tags": []
   },
   "outputs": [
    {
     "name": "stdout",
     "output_type": "stream",
     "text": [
      "\n",
      "Voting Classifier Test Set Predictions:\n",
      "\n",
      "Voting Classifier on Test Set:\n",
      "Accuracy: 97.04%\n",
      "Precision: 0.94\n",
      "Recall: 0.96\n",
      "F1-Score: 0.95\n",
      "Confusion Matrix:\n",
      "[[10759   303    45]\n",
      " [  158  1723     1]\n",
      " [    0     0  4158]]\n",
      "\n",
      "Neural Network Test Set Predictions:\n",
      "\n",
      "Neural Network on Test Set:\n",
      "Accuracy: 95.71%\n",
      "Precision: 0.92\n",
      "Recall: 0.96\n",
      "F1-Score: 0.94\n",
      "Confusion Matrix:\n",
      "[[10523   398   186]\n",
      " [  148  1732     2]\n",
      " [    2     0  4156]]\n"
     ]
    },
    {
     "data": {
      "text/plain": [
       "24"
      ]
     },
     "execution_count": 8,
     "metadata": {},
     "output_type": "execute_result"
    }
   ],
   "source": [
    "# Voting Classifier predictions on test set\n",
    "y_test_pred_voting = voting_clf.predict(X_test)\n",
    "print(\"\\nVoting Classifier Test Set Predictions:\")\n",
    "print_metrics(y_test, y_test_pred_voting, \"Test Set\", \"Voting Classifier\")\n",
    "\n",
    "# Neural Network predictions on test set\n",
    "nn_model.eval()\n",
    "y_test_pred_nn = []\n",
    "y_true_nn = []\n",
    "with torch.no_grad():\n",
    "    for X_batch, y_batch in test_loader:\n",
    "        X_batch = X_batch.to(device)\n",
    "        outputs = nn_model(X_batch)\n",
    "        _, predicted = torch.max(outputs.data, 1)\n",
    "        y_test_pred_nn.extend(predicted.cpu().numpy())\n",
    "        y_true_nn.extend(y_batch.numpy())\n",
    "print(\"\\nNeural Network Test Set Predictions:\")\n",
    "print_metrics(y_true_nn, y_test_pred_nn, \"Test Set\", \"Neural Network\")\n",
    "\n",
    "# Collect garbage\n",
    "gc.collect()"
   ]
  },
  {
   "cell_type": "code",
   "execution_count": 9,
   "id": "17f6b04c",
   "metadata": {
    "execution": {
     "iopub.execute_input": "2025-03-07T00:11:43.273373Z",
     "iopub.status.busy": "2025-03-07T00:11:43.272844Z",
     "iopub.status.idle": "2025-03-07T00:11:44.456046Z",
     "shell.execute_reply": "2025-03-07T00:11:44.455310Z"
    },
    "papermill": {
     "duration": 1.209522,
     "end_time": "2025-03-07T00:11:44.457904",
     "exception": false,
     "start_time": "2025-03-07T00:11:43.248382",
     "status": "completed"
    },
    "tags": []
   },
   "outputs": [
    {
     "data": {
      "image/png": "[encoded data removed]",
      "text/plain": [
       "<Figure size 864x504 with 2 Axes>"
      ]
     },
     "metadata": {},
     "output_type": "display_data"
    },
    {
     "data": {
      "image/png": "[encoded data removed]",
      "text/plain": [
       "<Figure size 864x504 with 2 Axes>"
      ]
     },
     "metadata": {},
     "output_type": "display_data"
    },
    {
     "data": {
      "text/plain": [
       "10394"
      ]
     },
     "execution_count": 9,
     "metadata": {},
     "output_type": "execute_result"
    }
   ],
   "source": [
    "# Confusion matrix for Voting Classifier\n",
    "y_pred_voting = voting_clf.predict(X_test)\n",
    "cm_voting = confusion_matrix(y_test, y_pred_voting)\n",
    "sb.heatmap(cm_voting, annot=True, fmt='d', cmap='Blues')\n",
    "plt.title('Confusion Matrix - Voting Classifier')\n",
    "plt.xlabel('Predicted')\n",
    "plt.ylabel('Actual')\n",
    "plt.show()\n",
    "\n",
    "# Confusion matrix for Neural Network\n",
    "nn_model.eval()\n",
    "y_pred_nn = []\n",
    "y_true_nn = []\n",
    "with torch.no_grad():\n",
    "    for X_batch, y_batch in test_loader:\n",
    "        X_batch = X_batch.to(device)\n",
    "        outputs = nn_model(X_batch)\n",
    "        _, predicted = torch.max(outputs.data, 1)\n",
    "        y_pred_nn.extend(predicted.cpu().numpy())\n",
    "        y_true_nn.extend(y_batch.numpy())\n",
    "cm_nn = confusion_matrix(y_true_nn, y_pred_nn)\n",
    "sb.heatmap(cm_nn, annot=True, fmt='d', cmap='Blues')\n",
    "plt.title('Confusion Matrix - Neural Network')\n",
    "plt.xlabel('Predicted')\n",
    "plt.ylabel('Actual')\n",
    "plt.show()\n",
    "\n",
    "# Collect garbage\n",
    "gc.collect()"
   ]
  },
  {
   "cell_type": "code",
   "execution_count": 10,
   "id": "453155d1",
   "metadata": {
    "execution": {
     "iopub.execute_input": "2025-03-07T00:11:44.512337Z",
     "iopub.status.busy": "2025-03-07T00:11:44.512100Z",
     "iopub.status.idle": "2025-03-07T00:12:20.041130Z",
     "shell.execute_reply": "2025-03-07T00:12:20.040248Z"
    },
    "papermill": {
     "duration": 35.558142,
     "end_time": "2025-03-07T00:12:20.042735",
     "exception": false,
     "start_time": "2025-03-07T00:11:44.484593",
     "status": "completed"
    },
    "tags": []
   },
   "outputs": [
    {
     "data": {
      "image/png": "[encoded data removed]",
      "text/plain": [
       "<Figure size 720x432 with 1 Axes>"
      ]
     },
     "metadata": {},
     "output_type": "display_data"
    },
    {
     "name": "stdout",
     "output_type": "stream",
     "text": [
      "Feature Importance Scores:\n",
      "redshift: 0.4808\n",
      "g: 0.0520\n",
      "u: 0.0232\n",
      "plate: 0.0117\n",
      "z: 0.0035\n",
      "i: 0.0031\n",
      "MJD: 0.0013\n",
      "delta: 0.0007\n",
      "alpha: 0.0005\n",
      "r: -0.0000\n"
     ]
    },
    {
     "data": {
      "text/plain": [
       "3822"
      ]
     },
     "execution_count": 10,
     "metadata": {},
     "output_type": "execute_result"
    }
   ],
   "source": [
    "# Compute permutation importance\n",
    "result = permutation_importance(voting_clf, X_test, y_test, n_repeats=10, random_state=42, n_jobs=-1)\n",
    "\n",
    "# Extract and sort feature importances\n",
    "feature_names = X_test.columns\n",
    "importances = result.importances_mean\n",
    "sorted_idx = importances.argsort()[::-1]\n",
    "\n",
    "# Plot top 10 features\n",
    "plt.figure(figsize=(10, 6))\n",
    "plt.barh(feature_names[sorted_idx][:10], importances[sorted_idx][:10])\n",
    "plt.xlabel('Permutation Importance')\n",
    "plt.title('Top 10 Important Features (Permutation Importance)')\n",
    "plt.gca().invert_yaxis()\n",
    "plt.show()\n",
    "\n",
    "# Print all feature importances\n",
    "print(\"Feature Importance Scores:\")\n",
    "for i in sorted_idx:\n",
    "    print(f\"{feature_names[i]}: {importances[i]:.4f}\")\n",
    "\n",
    "# Collect garbage\n",
    "gc.collect()"
   ]
  },
  {
   "cell_type": "code",
   "execution_count": 11,
   "id": "424f8426",
   "metadata": {
    "execution": {
     "iopub.execute_input": "2025-03-07T00:12:20.097812Z",
     "iopub.status.busy": "2025-03-07T00:12:20.097603Z",
     "iopub.status.idle": "2025-03-07T00:17:04.337122Z",
     "shell.execute_reply": "2025-03-07T00:17:04.336521Z"
    },
    "papermill": {
     "duration": 284.270238,
     "end_time": "2025-03-07T00:17:04.339788",
     "exception": false,
     "start_time": "2025-03-07T00:12:20.069550",
     "status": "completed"
    },
    "tags": []
   },
   "outputs": [
    {
     "data": {
      "application/vnd.jupyter.widget-view+json": {
       "model_id": "a567d5e4f9f24a0aa42fd90a42552915",
       "version_major": 2,
       "version_minor": 0
      },
      "text/plain": [
       "  0%|          | 0/100 [00:00<?, ?it/s]"
      ]
     },
     "metadata": {},
     "output_type": "display_data"
    },
    {
     "data": {
      "image/png": "[encoded data removed]",
      "text/plain": [
       "<Figure size 576x396 with 1 Axes>"
      ]
     },
     "metadata": {},
     "output_type": "display_data"
    },
    {
     "data": {
      "image/png": "[encoded data removed]",
      "text/plain": [
       "<Figure size 1440x216 with 1 Axes>"
      ]
     },
     "metadata": {},
     "output_type": "display_data"
    },
    {
     "data": {
      "text/plain": [
       "10839"
      ]
     },
     "execution_count": 11,
     "metadata": {},
     "output_type": "execute_result"
    }
   ],
   "source": [
    "# Select a random subset of 100 samples from test set\n",
    "subset_size = 100\n",
    "X_test_subset = X_test.sample(subset_size, random_state=42)\n",
    "\n",
    "# Define prediction function for SHAP\n",
    "def predict_fn(X):\n",
    "    return voting_clf.predict(X)\n",
    "\n",
    "# Use KernelExplainer for SHAP\n",
    "explainer = shap.KernelExplainer(predict_fn, X_train_smote[:100])  # Small background set\n",
    "shap_values = explainer.shap_values(X_test_subset)\n",
    "\n",
    "# Summary plot\n",
    "shap.summary_plot(shap_values, X_test_subset, plot_type=\"bar\")\n",
    "\n",
    "# Force plot for first instance\n",
    "shap.force_plot(explainer.expected_value, shap_values[0], X_test_subset.iloc[0], matplotlib=True)\n",
    "\n",
    "# Collect garbage\n",
    "gc.collect()"
   ]
  },
  {
   "cell_type": "code",
   "execution_count": 12,
   "id": "c229b888",
   "metadata": {
    "execution": {
     "iopub.execute_input": "2025-03-07T00:17:04.404869Z",
     "iopub.status.busy": "2025-03-07T00:17:04.404641Z",
     "iopub.status.idle": "2025-03-07T00:17:04.576395Z",
     "shell.execute_reply": "2025-03-07T00:17:04.575578Z"
    },
    "papermill": {
     "duration": 0.206075,
     "end_time": "2025-03-07T00:17:04.578094",
     "exception": false,
     "start_time": "2025-03-07T00:17:04.372019",
     "status": "completed"
    },
    "tags": []
   },
   "outputs": [
    {
     "name": "stdout",
     "output_type": "stream",
     "text": [
      "\n",
      "Inference Pipeline Results:\n",
      "Sample 1: Predicted Class = QSO\n",
      "Sample 2: Predicted Class = GALAXY\n",
      "Sample 3: Predicted Class = STAR\n",
      "Sample 4: Predicted Class = GALAXY\n",
      "Sample 5: Predicted Class = GALAXY\n"
     ]
    },
    {
     "data": {
      "text/plain": [
       "28"
      ]
     },
     "execution_count": 12,
     "metadata": {},
     "output_type": "execute_result"
    }
   ],
   "source": [
    "# Simulate new data (5 samples from test set)\n",
    "new_data = X_test.sample(5, random_state=42)\n",
    "\n",
    "# In practice, apply scaler to new data if not pre-scaled\n",
    "new_data_scaled = sc.transform(new_data) \n",
    "\n",
    "# Predict using VotingClassifier\n",
    "new_predictions = voting_clf.predict(new_data)\n",
    "new_predictions_labels = le.inverse_transform(new_predictions)\n",
    "\n",
    "# Display predictions\n",
    "print(\"\\nInference Pipeline Results:\")\n",
    "for i, pred in enumerate(new_predictions_labels):\n",
    "    print(f\"Sample {i+1}: Predicted Class = {pred}\")\n",
    "\n",
    "# Collect garbage\n",
    "gc.collect()"
   ]
  }
 ],
 "metadata": {
  "kaggle": {
   "accelerator": "nvidiaTeslaT4",
   "dataSources": [
    {
     "datasetId": 1866141,
     "sourceId": 3047436,
     "sourceType": "datasetVersion"
    }
   ],
   "dockerImageVersionId": 30178,
   "isGpuEnabled": true,
   "isInternetEnabled": false,
   "language": "python",
   "sourceType": "notebook"
  },
  "kernelspec": {
   "display_name": "Python 3",
   "language": "python",
   "name": "python3"
  },
  "language_info": {
   "codemirror_mode": {
    "name": "ipython",
    "version": 3
   },
   "file_extension": ".py",
   "mimetype": "text/x-python",
   "name": "python",
   "nbconvert_exporter": "python",
   "pygments_lexer": "ipython3",
   "version": "3.7.12"
  },
  "papermill": {
   "default_parameters": {},
   "duration": 512.963285,
   "end_time": "2025-03-07T00:17:07.528033",
   "environment_variables": {},
   "exception": null,
   "input_path": "__notebook__.ipynb",
   "output_path": "__notebook__.ipynb",
   "parameters": {},
   "start_time": "2025-03-07T00:08:34.564748",
   "version": "2.3.4"
  },
  "widgets": {
   "application/vnd.jupyter.widget-state+json": {
    "state": {
     "06896e8386ce41b8b8b937d1395f9238": {
      "model_module": "@jupyter-widgets/base",
      "model_module_version": "1.2.0",
      "model_name": "LayoutModel",
      "state": {
       "_model_module": "@jupyter-widgets/base",
       "_model_module_version": "1.2.0",
       "_model_name": "LayoutModel",
       "_view_count": null,
       "_view_module": "@jupyter-widgets/base",
       "_view_module_version": "1.2.0",
       "_view_name": "LayoutView",
       "align_content": null,
       "align_items": null,
       "align_self": null,
       "border": null,
       "bottom": null,
       "display": null,
       "flex": null,
       "flex_flow": null,
       "grid_area": null,
       "grid_auto_columns": null,
       "grid_auto_flow": null,
       "grid_auto_rows": null,
       "grid_column": null,
       "grid_gap": null,
       "grid_row": null,
       "grid_template_areas": null,
       "grid_template_columns": null,
       "grid_template_rows": null,
       "height": null,
       "justify_content": null,
       "justify_items": null,
       "left": null,
       "margin": null,
       "max_height": null,
       "max_width": null,
       "min_height": null,
       "min_width": null,
       "object_fit": null,
       "object_position": null,
       "order": null,
       "overflow": null,
       "overflow_x": null,
       "overflow_y": null,
       "padding": null,
       "right": null,
       "top": null,
       "visibility": null,
       "width": null
      }
     },
     "1a0b35cd6a50404488e3d0681614f401": {
      "model_module": "@jupyter-widgets/controls",
      "model_module_version": "1.5.0",
      "model_name": "FloatProgressModel",
      "state": {
       "_dom_classes": [],
       "_model_module": "@jupyter-widgets/controls",
       "_model_module_version": "1.5.0",
       "_model_name": "FloatProgressModel",
       "_view_count": null,
       "_view_module": "@jupyter-widgets/controls",
       "_view_module_version": "1.5.0",
       "_view_name": "ProgressView",
       "bar_style": "success",
       "description": "",
       "description_tooltip": null,
       "layout": "IPY_MODEL_d5217b4f00864b59b890d670a9c7530e",
       "max": 100.0,
       "min": 0.0,
       "orientation": "horizontal",
       "style": "IPY_MODEL_23b56a3029e04552991d20d28ba13f88",
       "value": 100.0
      }
     },
     "23b56a3029e04552991d20d28ba13f88": {
      "model_module": "@jupyter-widgets/controls",
      "model_module_version": "1.5.0",
      "model_name": "ProgressStyleModel",
      "state": {
       "_model_module": "@jupyter-widgets/controls",
       "_model_module_version": "1.5.0",
       "_model_name": "ProgressStyleModel",
       "_view_count": null,
       "_view_module": "@jupyter-widgets/base",
       "_view_module_version": "1.2.0",
       "_view_name": "StyleView",
       "bar_color": null,
       "description_width": ""
      }
     },
     "4522e0491fa243e4b8c47c5122a55ceb": {
      "model_module": "@jupyter-widgets/controls",
      "model_module_version": "1.5.0",
      "model_name": "HTMLModel",
      "state": {
       "_dom_classes": [],
       "_model_module": "@jupyter-widgets/controls",
       "_model_module_version": "1.5.0",
       "_model_name": "HTMLModel",
       "_view_count": null,
       "_view_module": "@jupyter-widgets/controls",
       "_view_module_version": "1.5.0",
       "_view_name": "HTMLView",
       "description": "",
       "description_tooltip": null,
       "layout": "IPY_MODEL_06896e8386ce41b8b8b937d1395f9238",
       "placeholder": "​",
       "style": "IPY_MODEL_bd18b61017704792b1050bab61491dc8",
       "value": "100%"
      }
     },
     "5459114a8e3d4ccdb2c67baf838bacf0": {
      "model_module": "@jupyter-widgets/controls",
      "model_module_version": "1.5.0",
      "model_name": "DescriptionStyleModel",
      "state": {
       "_model_module": "@jupyter-widgets/controls",
       "_model_module_version": "1.5.0",
       "_model_name": "DescriptionStyleModel",
       "_view_count": null,
       "_view_module": "@jupyter-widgets/base",
       "_view_module_version": "1.2.0",
       "_view_name": "StyleView",
       "description_width": ""
      }
     },
     "7914d7b5b27d478aaefcc756bcc88104": {
      "model_module": "@jupyter-widgets/base",
      "model_module_version": "1.2.0",
      "model_name": "LayoutModel",
      "state": {
       "_model_module": "@jupyter-widgets/base",
       "_model_module_version": "1.2.0",
       "_model_name": "LayoutModel",
       "_view_count": null,
       "_view_module": "@jupyter-widgets/base",
       "_view_module_version": "1.2.0",
       "_view_name": "LayoutView",
       "align_content": null,
       "align_items": null,
       "align_self": null,
       "border": null,
       "bottom": null,
       "display": null,
       "flex": null,
       "flex_flow": null,
       "grid_area": null,
       "grid_auto_columns": null,
       "grid_auto_flow": null,
       "grid_auto_rows": null,
       "grid_column": null,
       "grid_gap": null,
       "grid_row": null,
       "grid_template_areas": null,
       "grid_template_columns": null,
       "grid_template_rows": null,
       "height": null,
       "justify_content": null,
       "justify_items": null,
       "left": null,
       "margin": null,
       "max_height": null,
       "max_width": null,
       "min_height": null,
       "min_width": null,
       "object_fit": null,
       "object_position": null,
       "order": null,
       "overflow": null,
       "overflow_x": null,
       "overflow_y": null,
       "padding": null,
       "right": null,
       "top": null,
       "visibility": null,
       "width": null
      }
     },
     "9742f5a227164b35b3f6f4cdc4bc1d75": {
      "model_module": "@jupyter-widgets/controls",
      "model_module_version": "1.5.0",
      "model_name": "HTMLModel",
      "state": {
       "_dom_classes": [],
       "_model_module": "@jupyter-widgets/controls",
       "_model_module_version": "1.5.0",
       "_model_name": "HTMLModel",
       "_view_count": null,
       "_view_module": "@jupyter-widgets/controls",
       "_view_module_version": "1.5.0",
       "_view_name": "HTMLView",
       "description": "",
       "description_tooltip": null,
       "layout": "IPY_MODEL_d218871ff67b48bdac73ce370db81371",
       "placeholder": "​",
       "style": "IPY_MODEL_5459114a8e3d4ccdb2c67baf838bacf0",
       "value": " 100/100 [04:43&lt;00:00,  2.82s/it]"
      }
     },
     "a567d5e4f9f24a0aa42fd90a42552915": {
      "model_module": "@jupyter-widgets/controls",
      "model_module_version": "1.5.0",
      "model_name": "HBoxModel",
      "state": {
       "_dom_classes": [],
       "_model_module": "@jupyter-widgets/controls",
       "_model_module_version": "1.5.0",
       "_model_name": "HBoxModel",
       "_view_count": null,
       "_view_module": "@jupyter-widgets/controls",
       "_view_module_version": "1.5.0",
       "_view_name": "HBoxView",
       "box_style": "",
       "children": [
        "IPY_MODEL_4522e0491fa243e4b8c47c5122a55ceb",
        "IPY_MODEL_1a0b35cd6a50404488e3d0681614f401",
        "IPY_MODEL_9742f5a227164b35b3f6f4cdc4bc1d75"
       ],
       "layout": "IPY_MODEL_7914d7b5b27d478aaefcc756bcc88104"
      }
     },
     "bd18b61017704792b1050bab61491dc8": {
      "model_module": "@jupyter-widgets/controls",
      "model_module_version": "1.5.0",
      "model_name": "DescriptionStyleModel",
      "state": {
       "_model_module": "@jupyter-widgets/controls",
       "_model_module_version": "1.5.0",
       "_model_name": "DescriptionStyleModel",
       "_view_count": null,
       "_view_module": "@jupyter-widgets/base",
       "_view_module_version": "1.2.0",
       "_view_name": "StyleView",
       "description_width": ""
      }
     },
     "d218871ff67b48bdac73ce370db81371": {
      "model_module": "@jupyter-widgets/base",
      "model_module_version": "1.2.0",
      "model_name": "LayoutModel",
      "state": {
       "_model_module": "@jupyter-widgets/base",
       "_model_module_version": "1.2.0",
       "_model_name": "LayoutModel",
       "_view_count": null,
       "_view_module": "@jupyter-widgets/base",
       "_view_module_version": "1.2.0",
       "_view_name": "LayoutView",
       "align_content": null,
       "align_items": null,
       "align_self": null,
       "border": null,
       "bottom": null,
       "display": null,
       "flex": null,
       "flex_flow": null,
       "grid_area": null,
       "grid_auto_columns": null,
       "grid_auto_flow": null,
       "grid_auto_rows": null,
       "grid_column": null,
       "grid_gap": null,
       "grid_row": null,
       "grid_template_areas": null,
       "grid_template_columns": null,
       "grid_template_rows": null,
       "height": null,
       "justify_content": null,
       "justify_items": null,
       "left": null,
       "margin": null,
       "max_height": null,
       "max_width": null,
       "min_height": null,
       "min_width": null,
       "object_fit": null,
       "object_position": null,
       "order": null,
       "overflow": null,
       "overflow_x": null,
       "overflow_y": null,
       "padding": null,
       "right": null,
       "top": null,
       "visibility": null,
       "width": null
      }
     },
     "d5217b4f00864b59b890d670a9c7530e": {
      "model_module": "@jupyter-widgets/base",
      "model_module_version": "1.2.0",
      "model_name": "LayoutModel",
      "state": {
       "_model_module": "@jupyter-widgets/base",
       "_model_module_version": "1.2.0",
       "_model_name": "LayoutModel",
       "_view_count": null,
       "_view_module": "@jupyter-widgets/base",
       "_view_module_version": "1.2.0",
       "_view_name": "LayoutView",
       "align_content": null,
       "align_items": null,
       "align_self": null,
       "border": null,
       "bottom": null,
       "display": null,
       "flex": null,
       "flex_flow": null,
       "grid_area": null,
       "grid_auto_columns": null,
       "grid_auto_flow": null,
       "grid_auto_rows": null,
       "grid_column": null,
       "grid_gap": null,
       "grid_row": null,
       "grid_template_areas": null,
       "grid_template_columns": null,
       "grid_template_rows": null,
       "height": null,
       "justify_content": null,
       "justify_items": null,
       "left": null,
       "margin": null,
       "max_height": null,
       "max_width": null,
       "min_height": null,
       "min_width": null,
       "object_fit": null,
       "object_position": null,
       "order": null,
       "overflow": null,
       "overflow_x": null,
       "overflow_y": null,
       "padding": null,
       "right": null,
       "top": null,
       "visibility": null,
       "width": null
      }
     }
    },
    "version_major": 2,
    "version_minor": 0
   }
  }
 },
 "nbformat": 4,
 "nbformat_minor": 5
}
